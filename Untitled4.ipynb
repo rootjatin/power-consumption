{
 "cells": [
  {
   "cell_type": "code",
   "execution_count": 1,
   "metadata": {},
   "outputs": [],
   "source": [
    "import datetime # for mentioning date and time in matplotlib visuals\n",
    "import numpy as np # this is for the array calculation \n",
    "import pandas as pd # for data analysis tools \n",
    "import matplotlib.pyplot as plt # for data visualisation \n",
    "from matplotlib import pyplot # for data visualization\n",
    "import seaborn as sns # for data visualisation \n",
    "from pandas.plotting import autocorrelation_plot # for data correction mode\n",
    "from sklearn.metrics import mean_squared_error #for finding errrors in data \n",
    "from sklearn.metrics import mean_absolute_error # for findins errors in the data \n",
    "from math import sqrt # for doing calculation in the data \n",
    "from statsmodels.tsa.arima_model import ARIMA  # for prediction"
   ]
  },
  {
   "cell_type": "code",
   "execution_count": 2,
   "metadata": {},
   "outputs": [],
   "source": [
    "df=pd.read_csv(r'C:\\Users\\Jatin\\Downloads\\elect\\final.csv') # loading data"
   ]
  },
  {
   "cell_type": "code",
   "execution_count": 3,
   "metadata": {},
   "outputs": [
    {
     "data": {
      "text/html": [
       "<div>\n",
       "<style scoped>\n",
       "    .dataframe tbody tr th:only-of-type {\n",
       "        vertical-align: middle;\n",
       "    }\n",
       "\n",
       "    .dataframe tbody tr th {\n",
       "        vertical-align: top;\n",
       "    }\n",
       "\n",
       "    .dataframe thead th {\n",
       "        text-align: right;\n",
       "    }\n",
       "</style>\n",
       "<table border=\"1\" class=\"dataframe\">\n",
       "  <thead>\n",
       "    <tr style=\"text-align: right;\">\n",
       "      <th></th>\n",
       "      <th>S no</th>\n",
       "      <th>Time Desc</th>\n",
       "      <th>Jan-01</th>\n",
       "      <th>Jan-02</th>\n",
       "      <th>Jan-03</th>\n",
       "      <th>Jan-04</th>\n",
       "      <th>Jan-05</th>\n",
       "      <th>Jan-06</th>\n",
       "      <th>Jan-07</th>\n",
       "      <th>Jan-08</th>\n",
       "      <th>...</th>\n",
       "      <th>Jan-22</th>\n",
       "      <th>Jan-23</th>\n",
       "      <th>Jan-24</th>\n",
       "      <th>Jan-25</th>\n",
       "      <th>Jan-26</th>\n",
       "      <th>Jan-27</th>\n",
       "      <th>Jan-28</th>\n",
       "      <th>Jan-29</th>\n",
       "      <th>Jan-30</th>\n",
       "      <th>Jan-31</th>\n",
       "    </tr>\n",
       "  </thead>\n",
       "  <tbody>\n",
       "    <tr>\n",
       "      <th>0</th>\n",
       "      <td>0</td>\n",
       "      <td>00:00-00:15</td>\n",
       "      <td>2130.693847</td>\n",
       "      <td>2610.918035</td>\n",
       "      <td>2153.323019</td>\n",
       "      <td>2555.843478</td>\n",
       "      <td>2334.083917</td>\n",
       "      <td>1308.351885</td>\n",
       "      <td>1915.190855</td>\n",
       "      <td>2578.817795</td>\n",
       "      <td>...</td>\n",
       "      <td>1657.081312</td>\n",
       "      <td>2623.938189</td>\n",
       "      <td>1531.492530</td>\n",
       "      <td>1324.682000</td>\n",
       "      <td>2015.581645</td>\n",
       "      <td>2350.554861</td>\n",
       "      <td>2164.087214</td>\n",
       "      <td>2070.919431</td>\n",
       "      <td>2258.746706</td>\n",
       "      <td>1777.305437</td>\n",
       "    </tr>\n",
       "    <tr>\n",
       "      <th>1</th>\n",
       "      <td>1</td>\n",
       "      <td>00:15-00:30</td>\n",
       "      <td>1667.385199</td>\n",
       "      <td>2604.648087</td>\n",
       "      <td>1863.922265</td>\n",
       "      <td>2560.364100</td>\n",
       "      <td>2339.435492</td>\n",
       "      <td>1329.347761</td>\n",
       "      <td>2024.253633</td>\n",
       "      <td>2607.256050</td>\n",
       "      <td>...</td>\n",
       "      <td>1474.496332</td>\n",
       "      <td>2587.428896</td>\n",
       "      <td>1653.535655</td>\n",
       "      <td>939.662231</td>\n",
       "      <td>2137.169648</td>\n",
       "      <td>2146.832750</td>\n",
       "      <td>2108.766077</td>\n",
       "      <td>2185.197591</td>\n",
       "      <td>2111.730881</td>\n",
       "      <td>1519.113385</td>\n",
       "    </tr>\n",
       "    <tr>\n",
       "      <th>2</th>\n",
       "      <td>2</td>\n",
       "      <td>00:30-00:45</td>\n",
       "      <td>1544.262102</td>\n",
       "      <td>2441.002642</td>\n",
       "      <td>1612.954243</td>\n",
       "      <td>2445.117960</td>\n",
       "      <td>2337.378041</td>\n",
       "      <td>1328.467930</td>\n",
       "      <td>2102.827194</td>\n",
       "      <td>2367.600598</td>\n",
       "      <td>...</td>\n",
       "      <td>1340.196087</td>\n",
       "      <td>2602.490014</td>\n",
       "      <td>1685.650901</td>\n",
       "      <td>926.495871</td>\n",
       "      <td>2058.679187</td>\n",
       "      <td>1877.304757</td>\n",
       "      <td>2163.403418</td>\n",
       "      <td>2202.342479</td>\n",
       "      <td>2156.499731</td>\n",
       "      <td>1396.382068</td>\n",
       "    </tr>\n",
       "    <tr>\n",
       "      <th>3</th>\n",
       "      <td>3</td>\n",
       "      <td>00:45-01:00</td>\n",
       "      <td>1701.708863</td>\n",
       "      <td>2286.850991</td>\n",
       "      <td>1603.870986</td>\n",
       "      <td>2429.801518</td>\n",
       "      <td>2319.677608</td>\n",
       "      <td>1143.065498</td>\n",
       "      <td>2067.768768</td>\n",
       "      <td>2107.126114</td>\n",
       "      <td>...</td>\n",
       "      <td>1340.531198</td>\n",
       "      <td>2635.557492</td>\n",
       "      <td>1314.540186</td>\n",
       "      <td>946.294745</td>\n",
       "      <td>1919.332211</td>\n",
       "      <td>1773.883933</td>\n",
       "      <td>2196.812388</td>\n",
       "      <td>2191.664758</td>\n",
       "      <td>2091.639070</td>\n",
       "      <td>1265.043571</td>\n",
       "    </tr>\n",
       "    <tr>\n",
       "      <th>4</th>\n",
       "      <td>4</td>\n",
       "      <td>01:00-01:15</td>\n",
       "      <td>1844.752756</td>\n",
       "      <td>2260.231810</td>\n",
       "      <td>1458.656517</td>\n",
       "      <td>2390.518790</td>\n",
       "      <td>2324.941703</td>\n",
       "      <td>958.021896</td>\n",
       "      <td>1958.512942</td>\n",
       "      <td>2009.750017</td>\n",
       "      <td>...</td>\n",
       "      <td>1370.779524</td>\n",
       "      <td>2492.145691</td>\n",
       "      <td>964.297378</td>\n",
       "      <td>1046.727972</td>\n",
       "      <td>1791.492788</td>\n",
       "      <td>1651.661550</td>\n",
       "      <td>2197.389738</td>\n",
       "      <td>2199.124830</td>\n",
       "      <td>2208.416529</td>\n",
       "      <td>1202.720710</td>\n",
       "    </tr>\n",
       "  </tbody>\n",
       "</table>\n",
       "<p>5 rows × 33 columns</p>\n",
       "</div>"
      ],
      "text/plain": [
       "   S no    Time Desc       Jan-01       Jan-02       Jan-03       Jan-04  \\\n",
       "0     0  00:00-00:15  2130.693847  2610.918035  2153.323019  2555.843478   \n",
       "1     1  00:15-00:30  1667.385199  2604.648087  1863.922265  2560.364100   \n",
       "2     2  00:30-00:45  1544.262102  2441.002642  1612.954243  2445.117960   \n",
       "3     3  00:45-01:00  1701.708863  2286.850991  1603.870986  2429.801518   \n",
       "4     4  01:00-01:15  1844.752756  2260.231810  1458.656517  2390.518790   \n",
       "\n",
       "        Jan-05       Jan-06       Jan-07       Jan-08  ...       Jan-22  \\\n",
       "0  2334.083917  1308.351885  1915.190855  2578.817795  ...  1657.081312   \n",
       "1  2339.435492  1329.347761  2024.253633  2607.256050  ...  1474.496332   \n",
       "2  2337.378041  1328.467930  2102.827194  2367.600598  ...  1340.196087   \n",
       "3  2319.677608  1143.065498  2067.768768  2107.126114  ...  1340.531198   \n",
       "4  2324.941703   958.021896  1958.512942  2009.750017  ...  1370.779524   \n",
       "\n",
       "        Jan-23       Jan-24       Jan-25       Jan-26       Jan-27  \\\n",
       "0  2623.938189  1531.492530  1324.682000  2015.581645  2350.554861   \n",
       "1  2587.428896  1653.535655   939.662231  2137.169648  2146.832750   \n",
       "2  2602.490014  1685.650901   926.495871  2058.679187  1877.304757   \n",
       "3  2635.557492  1314.540186   946.294745  1919.332211  1773.883933   \n",
       "4  2492.145691   964.297378  1046.727972  1791.492788  1651.661550   \n",
       "\n",
       "        Jan-28       Jan-29       Jan-30       Jan-31  \n",
       "0  2164.087214  2070.919431  2258.746706  1777.305437  \n",
       "1  2108.766077  2185.197591  2111.730881  1519.113385  \n",
       "2  2163.403418  2202.342479  2156.499731  1396.382068  \n",
       "3  2196.812388  2191.664758  2091.639070  1265.043571  \n",
       "4  2197.389738  2199.124830  2208.416529  1202.720710  \n",
       "\n",
       "[5 rows x 33 columns]"
      ]
     },
     "execution_count": 3,
     "metadata": {},
     "output_type": "execute_result"
    }
   ],
   "source": [
    "df.head()# data analsis"
   ]
  },
  {
   "cell_type": "code",
   "execution_count": 4,
   "metadata": {},
   "outputs": [
    {
     "name": "stdout",
     "output_type": "stream",
     "text": [
      "<class 'pandas.core.frame.DataFrame'>\n",
      "RangeIndex: 96 entries, 0 to 95\n",
      "Data columns (total 33 columns):\n",
      "S no         96 non-null int64\n",
      "Time Desc    96 non-null object\n",
      "Jan-01       96 non-null float64\n",
      "Jan-02       96 non-null float64\n",
      "Jan-03       96 non-null float64\n",
      "Jan-04       96 non-null float64\n",
      "Jan-05       96 non-null float64\n",
      "Jan-06       96 non-null float64\n",
      "Jan-07       96 non-null float64\n",
      "Jan-08       96 non-null float64\n",
      "Jan-09       96 non-null float64\n",
      "Jan-10       96 non-null float64\n",
      "Jan-11       96 non-null float64\n",
      "Jan-12       96 non-null float64\n",
      "Jan-13       96 non-null float64\n",
      "Jan-14       96 non-null float64\n",
      "Jan-15       96 non-null float64\n",
      "Jan-16       96 non-null float64\n",
      "Jan-17       96 non-null float64\n",
      "Jan-18       96 non-null float64\n",
      "Jan-19       96 non-null float64\n",
      "Jan-20       96 non-null float64\n",
      "Jan-21       96 non-null float64\n",
      "Jan-22       96 non-null float64\n",
      "Jan-23       96 non-null float64\n",
      "Jan-24       96 non-null float64\n",
      "Jan-25       96 non-null float64\n",
      "Jan-26       96 non-null float64\n",
      "Jan-27       96 non-null float64\n",
      "Jan-28       96 non-null float64\n",
      "Jan-29       96 non-null float64\n",
      "Jan-30       96 non-null float64\n",
      "Jan-31       96 non-null float64\n",
      "dtypes: float64(31), int64(1), object(1)\n",
      "memory usage: 24.8+ KB\n"
     ]
    }
   ],
   "source": [
    "df.info() # data analysis"
   ]
  },
  {
   "cell_type": "code",
   "execution_count": 5,
   "metadata": {},
   "outputs": [
    {
     "data": {
      "text/html": [
       "<div>\n",
       "<style scoped>\n",
       "    .dataframe tbody tr th:only-of-type {\n",
       "        vertical-align: middle;\n",
       "    }\n",
       "\n",
       "    .dataframe tbody tr th {\n",
       "        vertical-align: top;\n",
       "    }\n",
       "\n",
       "    .dataframe thead th {\n",
       "        text-align: right;\n",
       "    }\n",
       "</style>\n",
       "<table border=\"1\" class=\"dataframe\">\n",
       "  <thead>\n",
       "    <tr style=\"text-align: right;\">\n",
       "      <th></th>\n",
       "      <th>S no</th>\n",
       "      <th>Jan-01</th>\n",
       "      <th>Jan-02</th>\n",
       "      <th>Jan-03</th>\n",
       "      <th>Jan-04</th>\n",
       "      <th>Jan-05</th>\n",
       "      <th>Jan-06</th>\n",
       "      <th>Jan-07</th>\n",
       "      <th>Jan-08</th>\n",
       "      <th>Jan-09</th>\n",
       "      <th>...</th>\n",
       "      <th>Jan-22</th>\n",
       "      <th>Jan-23</th>\n",
       "      <th>Jan-24</th>\n",
       "      <th>Jan-25</th>\n",
       "      <th>Jan-26</th>\n",
       "      <th>Jan-27</th>\n",
       "      <th>Jan-28</th>\n",
       "      <th>Jan-29</th>\n",
       "      <th>Jan-30</th>\n",
       "      <th>Jan-31</th>\n",
       "    </tr>\n",
       "  </thead>\n",
       "  <tbody>\n",
       "    <tr>\n",
       "      <th>count</th>\n",
       "      <td>96.000000</td>\n",
       "      <td>96.000000</td>\n",
       "      <td>96.000000</td>\n",
       "      <td>96.000000</td>\n",
       "      <td>96.000000</td>\n",
       "      <td>96.000000</td>\n",
       "      <td>96.000000</td>\n",
       "      <td>96.000000</td>\n",
       "      <td>96.000000</td>\n",
       "      <td>96.000000</td>\n",
       "      <td>...</td>\n",
       "      <td>96.000000</td>\n",
       "      <td>96.000000</td>\n",
       "      <td>96.000000</td>\n",
       "      <td>96.000000</td>\n",
       "      <td>96.000000</td>\n",
       "      <td>96.000000</td>\n",
       "      <td>96.000000</td>\n",
       "      <td>96.000000</td>\n",
       "      <td>96.000000</td>\n",
       "      <td>96.000000</td>\n",
       "    </tr>\n",
       "    <tr>\n",
       "      <th>mean</th>\n",
       "      <td>47.500000</td>\n",
       "      <td>2709.287204</td>\n",
       "      <td>2577.677783</td>\n",
       "      <td>2339.846844</td>\n",
       "      <td>2585.076662</td>\n",
       "      <td>2621.058059</td>\n",
       "      <td>2430.512053</td>\n",
       "      <td>2502.806771</td>\n",
       "      <td>2531.079661</td>\n",
       "      <td>2499.085497</td>\n",
       "      <td>...</td>\n",
       "      <td>2912.935383</td>\n",
       "      <td>2746.946892</td>\n",
       "      <td>2168.894257</td>\n",
       "      <td>2420.511219</td>\n",
       "      <td>2540.224278</td>\n",
       "      <td>2670.296187</td>\n",
       "      <td>2570.272566</td>\n",
       "      <td>2607.289095</td>\n",
       "      <td>2783.514562</td>\n",
       "      <td>2561.497936</td>\n",
       "    </tr>\n",
       "    <tr>\n",
       "      <th>std</th>\n",
       "      <td>27.856777</td>\n",
       "      <td>881.081737</td>\n",
       "      <td>777.524520</td>\n",
       "      <td>911.398098</td>\n",
       "      <td>699.738631</td>\n",
       "      <td>768.145051</td>\n",
       "      <td>906.003999</td>\n",
       "      <td>777.034995</td>\n",
       "      <td>673.889631</td>\n",
       "      <td>604.487917</td>\n",
       "      <td>...</td>\n",
       "      <td>1001.479261</td>\n",
       "      <td>631.507415</td>\n",
       "      <td>904.316157</td>\n",
       "      <td>827.671139</td>\n",
       "      <td>725.401298</td>\n",
       "      <td>716.475389</td>\n",
       "      <td>659.916469</td>\n",
       "      <td>551.535413</td>\n",
       "      <td>760.263028</td>\n",
       "      <td>877.568067</td>\n",
       "    </tr>\n",
       "    <tr>\n",
       "      <th>min</th>\n",
       "      <td>0.000000</td>\n",
       "      <td>1150.624462</td>\n",
       "      <td>963.810587</td>\n",
       "      <td>722.272209</td>\n",
       "      <td>1287.440434</td>\n",
       "      <td>1071.213057</td>\n",
       "      <td>748.542705</td>\n",
       "      <td>937.017994</td>\n",
       "      <td>943.409512</td>\n",
       "      <td>978.073322</td>\n",
       "      <td>...</td>\n",
       "      <td>1303.773835</td>\n",
       "      <td>1054.255901</td>\n",
       "      <td>9.649454</td>\n",
       "      <td>871.007630</td>\n",
       "      <td>833.035944</td>\n",
       "      <td>1126.582576</td>\n",
       "      <td>998.760395</td>\n",
       "      <td>1317.727404</td>\n",
       "      <td>781.696403</td>\n",
       "      <td>739.729095</td>\n",
       "    </tr>\n",
       "    <tr>\n",
       "      <th>25%</th>\n",
       "      <td>23.750000</td>\n",
       "      <td>2133.357590</td>\n",
       "      <td>2099.464745</td>\n",
       "      <td>1551.467194</td>\n",
       "      <td>2307.430149</td>\n",
       "      <td>2226.609536</td>\n",
       "      <td>1408.069455</td>\n",
       "      <td>1947.682420</td>\n",
       "      <td>2081.468077</td>\n",
       "      <td>2227.352357</td>\n",
       "      <td>...</td>\n",
       "      <td>1678.196835</td>\n",
       "      <td>2329.191340</td>\n",
       "      <td>1677.622090</td>\n",
       "      <td>1814.304147</td>\n",
       "      <td>2169.854202</td>\n",
       "      <td>2109.922953</td>\n",
       "      <td>2163.916265</td>\n",
       "      <td>2201.538067</td>\n",
       "      <td>2202.522710</td>\n",
       "      <td>1768.430208</td>\n",
       "    </tr>\n",
       "    <tr>\n",
       "      <th>50%</th>\n",
       "      <td>47.500000</td>\n",
       "      <td>2620.753015</td>\n",
       "      <td>2450.728498</td>\n",
       "      <td>2433.241695</td>\n",
       "      <td>2508.385610</td>\n",
       "      <td>2480.836473</td>\n",
       "      <td>2695.998411</td>\n",
       "      <td>2739.167415</td>\n",
       "      <td>2581.625436</td>\n",
       "      <td>2532.731081</td>\n",
       "      <td>...</td>\n",
       "      <td>3201.254459</td>\n",
       "      <td>2850.007278</td>\n",
       "      <td>2511.667398</td>\n",
       "      <td>2698.714179</td>\n",
       "      <td>2688.210057</td>\n",
       "      <td>2835.138614</td>\n",
       "      <td>2785.066479</td>\n",
       "      <td>2615.535456</td>\n",
       "      <td>3056.868645</td>\n",
       "      <td>2786.582701</td>\n",
       "    </tr>\n",
       "    <tr>\n",
       "      <th>75%</th>\n",
       "      <td>71.250000</td>\n",
       "      <td>3204.139127</td>\n",
       "      <td>2960.706310</td>\n",
       "      <td>3041.521049</td>\n",
       "      <td>3004.476085</td>\n",
       "      <td>2982.980202</td>\n",
       "      <td>3115.640344</td>\n",
       "      <td>3085.984725</td>\n",
       "      <td>3030.669818</td>\n",
       "      <td>2925.100833</td>\n",
       "      <td>...</td>\n",
       "      <td>3681.361769</td>\n",
       "      <td>3271.431887</td>\n",
       "      <td>2807.566762</td>\n",
       "      <td>3053.955343</td>\n",
       "      <td>2978.046115</td>\n",
       "      <td>3239.465252</td>\n",
       "      <td>3027.809624</td>\n",
       "      <td>3020.041829</td>\n",
       "      <td>3331.188277</td>\n",
       "      <td>3232.637612</td>\n",
       "    </tr>\n",
       "    <tr>\n",
       "      <th>max</th>\n",
       "      <td>95.000000</td>\n",
       "      <td>4539.157580</td>\n",
       "      <td>4342.388333</td>\n",
       "      <td>4027.456976</td>\n",
       "      <td>4098.998030</td>\n",
       "      <td>4436.677618</td>\n",
       "      <td>3771.235384</td>\n",
       "      <td>3531.879593</td>\n",
       "      <td>3833.273320</td>\n",
       "      <td>3578.243880</td>\n",
       "      <td>...</td>\n",
       "      <td>4253.480372</td>\n",
       "      <td>3694.938214</td>\n",
       "      <td>3601.923647</td>\n",
       "      <td>3629.347520</td>\n",
       "      <td>3930.505820</td>\n",
       "      <td>3659.980804</td>\n",
       "      <td>3465.107809</td>\n",
       "      <td>3794.344927</td>\n",
       "      <td>3749.975836</td>\n",
       "      <td>3911.206437</td>\n",
       "    </tr>\n",
       "  </tbody>\n",
       "</table>\n",
       "<p>8 rows × 32 columns</p>\n",
       "</div>"
      ],
      "text/plain": [
       "            S no       Jan-01       Jan-02       Jan-03       Jan-04  \\\n",
       "count  96.000000    96.000000    96.000000    96.000000    96.000000   \n",
       "mean   47.500000  2709.287204  2577.677783  2339.846844  2585.076662   \n",
       "std    27.856777   881.081737   777.524520   911.398098   699.738631   \n",
       "min     0.000000  1150.624462   963.810587   722.272209  1287.440434   \n",
       "25%    23.750000  2133.357590  2099.464745  1551.467194  2307.430149   \n",
       "50%    47.500000  2620.753015  2450.728498  2433.241695  2508.385610   \n",
       "75%    71.250000  3204.139127  2960.706310  3041.521049  3004.476085   \n",
       "max    95.000000  4539.157580  4342.388333  4027.456976  4098.998030   \n",
       "\n",
       "            Jan-05       Jan-06       Jan-07       Jan-08       Jan-09  ...  \\\n",
       "count    96.000000    96.000000    96.000000    96.000000    96.000000  ...   \n",
       "mean   2621.058059  2430.512053  2502.806771  2531.079661  2499.085497  ...   \n",
       "std     768.145051   906.003999   777.034995   673.889631   604.487917  ...   \n",
       "min    1071.213057   748.542705   937.017994   943.409512   978.073322  ...   \n",
       "25%    2226.609536  1408.069455  1947.682420  2081.468077  2227.352357  ...   \n",
       "50%    2480.836473  2695.998411  2739.167415  2581.625436  2532.731081  ...   \n",
       "75%    2982.980202  3115.640344  3085.984725  3030.669818  2925.100833  ...   \n",
       "max    4436.677618  3771.235384  3531.879593  3833.273320  3578.243880  ...   \n",
       "\n",
       "            Jan-22       Jan-23       Jan-24       Jan-25       Jan-26  \\\n",
       "count    96.000000    96.000000    96.000000    96.000000    96.000000   \n",
       "mean   2912.935383  2746.946892  2168.894257  2420.511219  2540.224278   \n",
       "std    1001.479261   631.507415   904.316157   827.671139   725.401298   \n",
       "min    1303.773835  1054.255901     9.649454   871.007630   833.035944   \n",
       "25%    1678.196835  2329.191340  1677.622090  1814.304147  2169.854202   \n",
       "50%    3201.254459  2850.007278  2511.667398  2698.714179  2688.210057   \n",
       "75%    3681.361769  3271.431887  2807.566762  3053.955343  2978.046115   \n",
       "max    4253.480372  3694.938214  3601.923647  3629.347520  3930.505820   \n",
       "\n",
       "            Jan-27       Jan-28       Jan-29       Jan-30       Jan-31  \n",
       "count    96.000000    96.000000    96.000000    96.000000    96.000000  \n",
       "mean   2670.296187  2570.272566  2607.289095  2783.514562  2561.497936  \n",
       "std     716.475389   659.916469   551.535413   760.263028   877.568067  \n",
       "min    1126.582576   998.760395  1317.727404   781.696403   739.729095  \n",
       "25%    2109.922953  2163.916265  2201.538067  2202.522710  1768.430208  \n",
       "50%    2835.138614  2785.066479  2615.535456  3056.868645  2786.582701  \n",
       "75%    3239.465252  3027.809624  3020.041829  3331.188277  3232.637612  \n",
       "max    3659.980804  3465.107809  3794.344927  3749.975836  3911.206437  \n",
       "\n",
       "[8 rows x 32 columns]"
      ]
     },
     "execution_count": 5,
     "metadata": {},
     "output_type": "execute_result"
    }
   ],
   "source": [
    "df.describe()# data analysis"
   ]
  },
  {
   "cell_type": "code",
   "execution_count": 6,
   "metadata": {},
   "outputs": [],
   "source": [
    "jan1=df['Jan-01']\n",
    "std=[]\n",
    "for i in range(96):\n",
    "    std.append(i*15)"
   ]
  },
  {
   "cell_type": "code",
   "execution_count": 7,
   "metadata": {},
   "outputs": [
    {
     "data": {
      "text/plain": [
       "[<matplotlib.lines.Line2D at 0x2027e638978>]"
      ]
     },
     "execution_count": 7,
     "metadata": {},
     "output_type": "execute_result"
    },
    {
     "data": {
      "image/png": "[encoded data removed]",
      "text/plain": [
       "<Figure size 432x288 with 1 Axes>"
      ]
     },
     "metadata": {
      "needs_background": "light"
     },
     "output_type": "display_data"
    }
   ],
   "source": [
    "plt.plot(std,jan1)"
   ]
  },
  {
   "cell_type": "code",
   "execution_count": 8,
   "metadata": {},
   "outputs": [],
   "source": [
    "date=[]\n",
    "for i in range(1,32):\n",
    "    if(i<10):\n",
    "        s='Jan-0' +str(i)\n",
    "        date.append(s)\n",
    "    else:\n",
    "        s='Jan-' +str(i)\n",
    "        date.append(s)"
   ]
  },
  {
   "cell_type": "code",
   "execution_count": 9,
   "metadata": {},
   "outputs": [
    {
     "data": {
      "text/plain": [
       "'Jan-01'"
      ]
     },
     "execution_count": 9,
     "metadata": {},
     "output_type": "execute_result"
    }
   ],
   "source": [
    "dw=[]\n",
    "date[0]"
   ]
  },
  {
   "cell_type": "code",
   "execution_count": 10,
   "metadata": {},
   "outputs": [],
   "source": [
    "for i in range(0,31):\n",
    "    dw.append(0)\n",
    "    dw[i]=df[date[i]]"
   ]
  },
  {
   "cell_type": "code",
   "execution_count": 11,
   "metadata": {},
   "outputs": [],
   "source": [
    "def jandate():\n",
    "    uu=int(input(\"write a date to see the usage graph \\n\"))\n",
    "    plt.plot(std,dw[uu])"
   ]
  },
  {
   "cell_type": "code",
   "execution_count": 12,
   "metadata": {},
   "outputs": [
    {
     "name": "stdout",
     "output_type": "stream",
     "text": [
      "write a date to see the usage graph \n",
      "10\n"
     ]
    },
    {
     "data": {
      "image/png": "[encoded data removed]",
      "text/plain": [
       "<Figure size 432x288 with 1 Axes>"
      ]
     },
     "metadata": {
      "needs_background": "light"
     },
     "output_type": "display_data"
    }
   ],
   "source": [
    "jandate()"
   ]
  },
  {
   "cell_type": "code",
   "execution_count": 13,
   "metadata": {},
   "outputs": [
    {
     "name": "stdout",
     "output_type": "stream",
     "text": [
      "write a date to see the usage graph \n",
      "11\n"
     ]
    },
    {
     "data": {
      "image/png": "[encoded data removed]",
      "text/plain": [
       "<Figure size 432x288 with 1 Axes>"
      ]
     },
     "metadata": {
      "needs_background": "light"
     },
     "output_type": "display_data"
    }
   ],
   "source": [
    "jandate()"
   ]
  },
  {
   "cell_type": "code",
   "execution_count": 14,
   "metadata": {},
   "outputs": [],
   "source": [
    "def autocorr(): # this step deals with autocorrelation in the data \n",
    "    uu=int(input(\"write a date to see the autocorelation plot\"))\n",
    "    autocorrelation_plot(dw[uu])\n",
    "    pyplot.show()"
   ]
  },
  {
   "cell_type": "code",
   "execution_count": 15,
   "metadata": {},
   "outputs": [
    {
     "name": "stdout",
     "output_type": "stream",
     "text": [
      "write a date to see the autocorelation plot7\n"
     ]
    },
    {
     "data": {
      "image/png": "[encoded data removed]",
      "text/plain": [
       "<Figure size 432x288 with 1 Axes>"
      ]
     },
     "metadata": {
      "needs_background": "light"
     },
     "output_type": "display_data"
    }
   ],
   "source": [
    "autocorr()"
   ]
  },
  {
   "cell_type": "code",
   "execution_count": 16,
   "metadata": {},
   "outputs": [],
   "source": [
    "naar=np.array(dw)\n",
    "naar=naar.T\n",
    "naar=naar.tolist()"
   ]
  },
  {
   "cell_type": "code",
   "execution_count": 17,
   "metadata": {},
   "outputs": [],
   "source": [
    "model = []\n",
    "modelfit=[]\n",
    "for i in range(0,96):\n",
    "    model.append(0)\n",
    "    modelfit.append(0)\n",
    "    model[i]=ARIMA(naar[i], order=(5,1,0))\n",
    "    modelfit[i]=model[i].fit(disp=0)"
   ]
  },
  {
   "cell_type": "code",
   "execution_count": 18,
   "metadata": {},
   "outputs": [],
   "source": [
    "#modelfit=model.fit(disp=0)"
   ]
  },
  {
   "cell_type": "code",
   "execution_count": 19,
   "metadata": {},
   "outputs": [
    {
     "data": {
      "text/html": [
       "<table class=\"simpletable\">\n",
       "<caption>ARIMA Model Results</caption>\n",
       "<tr>\n",
       "  <th>Dep. Variable:</th>        <td>D.y</td>       <th>  No. Observations:  </th>    <td>30</td>   \n",
       "</tr>\n",
       "<tr>\n",
       "  <th>Model:</th>          <td>ARIMA(5, 1, 0)</td>  <th>  Log Likelihood     </th> <td>-230.661</td>\n",
       "</tr>\n",
       "<tr>\n",
       "  <th>Method:</th>             <td>css-mle</td>     <th>  S.D. of innovations</th>  <td>520.144</td>\n",
       "</tr>\n",
       "<tr>\n",
       "  <th>Date:</th>          <td>Thu, 07 May 2020</td> <th>  AIC                </th>  <td>475.323</td>\n",
       "</tr>\n",
       "<tr>\n",
       "  <th>Time:</th>              <td>21:18:30</td>     <th>  BIC                </th>  <td>485.131</td>\n",
       "</tr>\n",
       "<tr>\n",
       "  <th>Sample:</th>                <td>1</td>        <th>  HQIC               </th>  <td>478.461</td>\n",
       "</tr>\n",
       "<tr>\n",
       "  <th></th>                       <td> </td>        <th>                     </th>     <td> </td>   \n",
       "</tr>\n",
       "</table>\n",
       "<table class=\"simpletable\">\n",
       "<tr>\n",
       "      <td></td>         <th>coef</th>     <th>std err</th>      <th>z</th>      <th>P>|z|</th>  <th>[0.025</th>    <th>0.975]</th>  \n",
       "</tr>\n",
       "<tr>\n",
       "  <th>const</th>     <td>   -4.5037</td> <td>   34.389</td> <td>   -0.131</td> <td> 0.897</td> <td>  -71.904</td> <td>   62.897</td>\n",
       "</tr>\n",
       "<tr>\n",
       "  <th>ar.L1.D.y</th> <td>   -0.6693</td> <td>    0.193</td> <td>   -3.461</td> <td> 0.002</td> <td>   -1.048</td> <td>   -0.290</td>\n",
       "</tr>\n",
       "<tr>\n",
       "  <th>ar.L2.D.y</th> <td>   -0.6862</td> <td>    0.225</td> <td>   -3.056</td> <td> 0.005</td> <td>   -1.126</td> <td>   -0.246</td>\n",
       "</tr>\n",
       "<tr>\n",
       "  <th>ar.L3.D.y</th> <td>   -0.2641</td> <td>    0.254</td> <td>   -1.041</td> <td> 0.308</td> <td>   -0.761</td> <td>    0.233</td>\n",
       "</tr>\n",
       "<tr>\n",
       "  <th>ar.L4.D.y</th> <td>   -0.2091</td> <td>    0.221</td> <td>   -0.948</td> <td> 0.353</td> <td>   -0.641</td> <td>    0.223</td>\n",
       "</tr>\n",
       "<tr>\n",
       "  <th>ar.L5.D.y</th> <td>   -0.0758</td> <td>    0.191</td> <td>   -0.398</td> <td> 0.694</td> <td>   -0.449</td> <td>    0.298</td>\n",
       "</tr>\n",
       "</table>\n",
       "<table class=\"simpletable\">\n",
       "<caption>Roots</caption>\n",
       "<tr>\n",
       "    <td></td>   <th>            Real</th>  <th>         Imaginary</th> <th>         Modulus</th>  <th>        Frequency</th>\n",
       "</tr>\n",
       "<tr>\n",
       "  <th>AR.1</th> <td>           0.5905</td> <td>          -1.5282j</td> <td>           1.6383</td> <td>          -0.1913</td>\n",
       "</tr>\n",
       "<tr>\n",
       "  <th>AR.2</th> <td>           0.5905</td> <td>          +1.5282j</td> <td>           1.6383</td> <td>           0.1913</td>\n",
       "</tr>\n",
       "<tr>\n",
       "  <th>AR.3</th> <td>          -0.6897</td> <td>          -1.2017j</td> <td>           1.3855</td> <td>          -0.3329</td>\n",
       "</tr>\n",
       "<tr>\n",
       "  <th>AR.4</th> <td>          -0.6897</td> <td>          +1.2017j</td> <td>           1.3855</td> <td>           0.3329</td>\n",
       "</tr>\n",
       "<tr>\n",
       "  <th>AR.5</th> <td>          -2.5593</td> <td>          -0.0000j</td> <td>           2.5593</td> <td>          -0.5000</td>\n",
       "</tr>\n",
       "</table>"
      ],
      "text/plain": [
       "<class 'statsmodels.iolib.summary.Summary'>\n",
       "\"\"\"\n",
       "                             ARIMA Model Results                              \n",
       "==============================================================================\n",
       "Dep. Variable:                    D.y   No. Observations:                   30\n",
       "Model:                 ARIMA(5, 1, 0)   Log Likelihood                -230.661\n",
       "Method:                       css-mle   S.D. of innovations            520.144\n",
       "Date:                Thu, 07 May 2020   AIC                            475.323\n",
       "Time:                        21:18:30   BIC                            485.131\n",
       "Sample:                             1   HQIC                           478.461\n",
       "                                                                              \n",
       "==============================================================================\n",
       "                 coef    std err          z      P>|z|      [0.025      0.975]\n",
       "------------------------------------------------------------------------------\n",
       "const         -4.5037     34.389     -0.131      0.897     -71.904      62.897\n",
       "ar.L1.D.y     -0.6693      0.193     -3.461      0.002      -1.048      -0.290\n",
       "ar.L2.D.y     -0.6862      0.225     -3.056      0.005      -1.126      -0.246\n",
       "ar.L3.D.y     -0.2641      0.254     -1.041      0.308      -0.761       0.233\n",
       "ar.L4.D.y     -0.2091      0.221     -0.948      0.353      -0.641       0.223\n",
       "ar.L5.D.y     -0.0758      0.191     -0.398      0.694      -0.449       0.298\n",
       "                                    Roots                                    \n",
       "=============================================================================\n",
       "                  Real          Imaginary           Modulus         Frequency\n",
       "-----------------------------------------------------------------------------\n",
       "AR.1            0.5905           -1.5282j            1.6383           -0.1913\n",
       "AR.2            0.5905           +1.5282j            1.6383            0.1913\n",
       "AR.3           -0.6897           -1.2017j            1.3855           -0.3329\n",
       "AR.4           -0.6897           +1.2017j            1.3855            0.3329\n",
       "AR.5           -2.5593           -0.0000j            2.5593           -0.5000\n",
       "-----------------------------------------------------------------------------\n",
       "\"\"\""
      ]
     },
     "execution_count": 19,
     "metadata": {},
     "output_type": "execute_result"
    }
   ],
   "source": [
    "modelfit[1].summary()"
   ]
  },
  {
   "cell_type": "code",
   "execution_count": 20,
   "metadata": {},
   "outputs": [
    {
     "name": "stdout",
     "output_type": "stream",
     "text": [
      "2555.8434780000002\n",
      "2555.8434780000002\n"
     ]
    }
   ],
   "source": [
    "print(dw[3][0])\n",
    "print(naar[0][3])"
   ]
  },
  {
   "cell_type": "code",
   "execution_count": 21,
   "metadata": {},
   "outputs": [
    {
     "ename": "NameError",
     "evalue": "name 'ru' is not defined",
     "output_type": "error",
     "traceback": [
      "\u001b[1;31m---------------------------------------------------------------------------\u001b[0m",
      "\u001b[1;31mNameError\u001b[0m                                 Traceback (most recent call last)",
      "\u001b[1;32m<ipython-input-21-4cd5fd48090c>\u001b[0m in \u001b[0;36m<module>\u001b[1;34m\u001b[0m\n\u001b[1;32m----> 1\u001b[1;33m \u001b[0mplt\u001b[0m\u001b[1;33m.\u001b[0m\u001b[0mplot\u001b[0m\u001b[1;33m(\u001b[0m\u001b[0mru\u001b[0m\u001b[1;33m)\u001b[0m\u001b[1;33m\u001b[0m\u001b[1;33m\u001b[0m\u001b[0m\n\u001b[0m",
      "\u001b[1;31mNameError\u001b[0m: name 'ru' is not defined"
     ]
    }
   ],
   "source": [
    "#plt.plot(ru)"
   ]
  },
  {
   "cell_type": "code",
   "execution_count": 22,
   "metadata": {},
   "outputs": [
    {
     "ename": "AttributeError",
     "evalue": "'list' object has no attribute 'info'",
     "output_type": "error",
     "traceback": [
      "\u001b[1;31m---------------------------------------------------------------------------\u001b[0m",
      "\u001b[1;31mAttributeError\u001b[0m                            Traceback (most recent call last)",
      "\u001b[1;32m<ipython-input-22-dc643a463ffa>\u001b[0m in \u001b[0;36m<module>\u001b[1;34m\u001b[0m\n\u001b[1;32m----> 1\u001b[1;33m \u001b[0mdw\u001b[0m\u001b[1;33m.\u001b[0m\u001b[0minfo\u001b[0m\u001b[1;33m\u001b[0m\u001b[1;33m\u001b[0m\u001b[0m\n\u001b[0m",
      "\u001b[1;31mAttributeError\u001b[0m: 'list' object has no attribute 'info'"
     ]
    }
   ],
   "source": [
    "dw.info"
   ]
  },
  {
   "cell_type": "code",
   "execution_count": 23,
   "metadata": {},
   "outputs": [
    {
     "data": {
      "text/plain": [
       "31"
      ]
     },
     "execution_count": 23,
     "metadata": {},
     "output_type": "execute_result"
    }
   ],
   "source": [
    "len(dw)"
   ]
  },
  {
   "cell_type": "code",
   "execution_count": 24,
   "metadata": {},
   "outputs": [
    {
     "data": {
      "text/plain": [
       "31"
      ]
     },
     "execution_count": 24,
     "metadata": {},
     "output_type": "execute_result"
    }
   ],
   "source": [
    "len(dw)"
   ]
  },
  {
   "cell_type": "code",
   "execution_count": 26,
   "metadata": {},
   "outputs": [],
   "source": [
    "#naar=np.array(dw)"
   ]
  },
  {
   "cell_type": "code",
   "execution_count": 27,
   "metadata": {},
   "outputs": [],
   "source": [
    "#naar=naar.T"
   ]
  },
  {
   "cell_type": "code",
   "execution_count": 28,
   "metadata": {},
   "outputs": [],
   "source": [
    "#naar=naar.tolist()"
   ]
  },
  {
   "cell_type": "code",
   "execution_count": 25,
   "metadata": {},
   "outputs": [
    {
     "data": {
      "text/plain": [
       "96"
      ]
     },
     "execution_count": 25,
     "metadata": {},
     "output_type": "execute_result"
    }
   ],
   "source": [
    "len(naar)"
   ]
  },
  {
   "cell_type": "code",
   "execution_count": 26,
   "metadata": {},
   "outputs": [],
   "source": [
    "# train and test data splitting \n",
    "train=[]\n",
    "for i in range (0,96):\n",
    "    train.append([])\n",
    "    for j in range(0,28):\n",
    "        train[i].append(naar[i][j])"
   ]
  },
  {
   "cell_type": "code",
   "execution_count": 27,
   "metadata": {},
   "outputs": [
    {
     "data": {
      "text/plain": [
       "96"
      ]
     },
     "execution_count": 27,
     "metadata": {},
     "output_type": "execute_result"
    }
   ],
   "source": [
    "len(train)"
   ]
  },
  {
   "cell_type": "code",
   "execution_count": 28,
   "metadata": {},
   "outputs": [],
   "source": [
    "# train and test data splitting \n",
    "test=[]\n",
    "for i in range (0,96):\n",
    "    test.append([])\n",
    "    for j in range(28,31):\n",
    "        test[i].append(naar[i][j])"
   ]
  },
  {
   "cell_type": "code",
   "execution_count": 81,
   "metadata": {},
   "outputs": [],
   "source": [
    "#predictions for household MAC000018.\n",
    "prediction =[]\n",
    "output11=[]\n",
    "output1=[]\n",
    "final=[]\n",
    "obs=0\n",
    "output12=0"
   ]
  },
  {
   "cell_type": "code",
   "execution_count": 82,
   "metadata": {},
   "outputs": [],
   "source": [
    "for j in range(len(model)):\n",
    "    prediction.append([])\n",
    "    #output11.append([])\n",
    "    output1.append([])\n",
    "    final.append([])\n",
    "    output12=0\n",
    "    output=0\n",
    "    for k in range(len(test[0])):\n",
    "        model[j]=ARIMA(train[j],order=(5,1,0))\n",
    "        modelfit[j]=model[j].fit(disp=0)\n",
    "        #prediction[j].append(0)\n",
    "        #output11[j].append(0)\n",
    "        output=modelfit[j].forecast()\n",
    "        output12=output[0]\n",
    "        prediction[j].append(output12[0])\n",
    "        obs=test[j][k]\n",
    "        final[j].append(obs)"
   ]
  },
  {
   "cell_type": "code",
   "execution_count": 83,
   "metadata": {},
   "outputs": [
    {
     "data": {
      "text/plain": [
       "2735.2609214774716"
      ]
     },
     "execution_count": 83,
     "metadata": {},
     "output_type": "execute_result"
    }
   ],
   "source": [
    "output12[0]"
   ]
  },
  {
   "cell_type": "code",
   "execution_count": 32,
   "metadata": {},
   "outputs": [
    {
     "data": {
      "text/plain": [
       "96"
      ]
     },
     "execution_count": 32,
     "metadata": {},
     "output_type": "execute_result"
    }
   ],
   "source": [
    "len(test)"
   ]
  },
  {
   "cell_type": "code",
   "execution_count": 33,
   "metadata": {},
   "outputs": [
    {
     "data": {
      "text/plain": [
       "3"
      ]
     },
     "execution_count": 33,
     "metadata": {},
     "output_type": "execute_result"
    }
   ],
   "source": [
    "len(test[1])"
   ]
  },
  {
   "cell_type": "code",
   "execution_count": 34,
   "metadata": {},
   "outputs": [],
   "source": [
    "final1=np.array(final)"
   ]
  },
  {
   "cell_type": "code",
   "execution_count": 35,
   "metadata": {},
   "outputs": [],
   "source": [
    "final1=final1.T"
   ]
  },
  {
   "cell_type": "code",
   "execution_count": 36,
   "metadata": {},
   "outputs": [],
   "source": [
    "final1=final1.tolist()"
   ]
  },
  {
   "cell_type": "code",
   "execution_count": 37,
   "metadata": {},
   "outputs": [
    {
     "data": {
      "image/png": "[encoded data removed]",
      "text/plain": [
       "<Figure size 432x288 with 1 Axes>"
      ]
     },
     "metadata": {
      "needs_background": "light"
     },
     "output_type": "display_data"
    }
   ],
   "source": [
    "pyplot.plot(dw[29],label='Actual')\n",
    "pyplot.plot(final1[0], color='red',label='predicted')\n",
    "plt.legend()\n",
    "plt.title(\"predicted\", fontsize=14, fontstyle='italic', fontweight='bold')\n",
    "pyplot.show()"
   ]
  },
  {
   "cell_type": "code",
   "execution_count": 38,
   "metadata": {},
   "outputs": [
    {
     "data": {
      "image/png": "[encoded data removed]",
      "text/plain": [
       "<Figure size 432x288 with 1 Axes>"
      ]
     },
     "metadata": {
      "needs_background": "light"
     },
     "output_type": "display_data"
    }
   ],
   "source": [
    "pyplot.plot(dw[30],label='Actual')\n",
    "pyplot.plot(final1[1], color='red',label='predicted')\n",
    "plt.legend()\n",
    "plt.title(\"predicted\", fontsize=14, fontstyle='italic', fontweight='bold')\n",
    "pyplot.show()"
   ]
  },
  {
   "cell_type": "code",
   "execution_count": 39,
   "metadata": {},
   "outputs": [
    {
     "data": {
      "image/png": "[encoded data removed]",
      "text/plain": [
       "<Figure size 432x288 with 1 Axes>"
      ]
     },
     "metadata": {
      "needs_background": "light"
     },
     "output_type": "display_data"
    }
   ],
   "source": [
    "pyplot.plot(dw[29],label='Actual')\n",
    "pyplot.plot(final1[2], color='red',label='predicted')\n",
    "plt.legend()\n",
    "plt.title(\"predicted\", fontsize=14, fontstyle='italic', fontweight='bold')\n",
    "pyplot.show()"
   ]
  },
  {
   "cell_type": "code",
   "execution_count": 40,
   "metadata": {},
   "outputs": [],
   "source": [
    "def report(a,b):\n",
    "  mse = mean_squared_error(a, b)\n",
    "  rmse = sqrt(mse)\n",
    "  mae = mean_absolute_error(a,b)\n",
    "  a=print(\"mean square error:\",mse)\n",
    "  b=print(\"square root mean square error:\",rmse)\n",
    "  c=print(\"mean absolute error:\",mae)\n",
    "  \n",
    "  return a,b,c"
   ]
  },
  {
   "cell_type": "code",
   "execution_count": 88,
   "metadata": {},
   "outputs": [],
   "source": [
    "a2=[]\n",
    "a3=[]"
   ]
  },
  {
   "cell_type": "code",
   "execution_count": 89,
   "metadata": {},
   "outputs": [],
   "source": [
    "for i in range(0,len(test)):\n",
    "    a2.append(0)\n",
    "    a2[i]=test[i][0]\n",
    "    a3.append(prediction[i][0])"
   ]
  },
  {
   "cell_type": "code",
   "execution_count": 90,
   "metadata": {},
   "outputs": [
    {
     "name": "stdout",
     "output_type": "stream",
     "text": [
      "mean square error: 170510.90643899408\n",
      "square root mean square error: 412.9296628228518\n",
      "mean absolute error: 301.26849316285734\n"
     ]
    },
    {
     "data": {
      "text/plain": [
       "(None, None, None)"
      ]
     },
     "execution_count": 90,
     "metadata": {},
     "output_type": "execute_result"
    }
   ],
   "source": [
    "report(a2,a3)"
   ]
  },
  {
   "cell_type": "code",
   "execution_count": 91,
   "metadata": {},
   "outputs": [
    {
     "data": {
      "image/png": "[encoded data removed]",
      "text/plain": [
       "<Figure size 432x288 with 1 Axes>"
      ]
     },
     "metadata": {
      "needs_background": "light"
     },
     "output_type": "display_data"
    }
   ],
   "source": [
    "pyplot.plot(a2,label='test')\n",
    "pyplot.plot(a3, color='red',label='predicted')\n",
    "plt.legend()\n",
    "plt.title(\"predicted\", fontsize=14, fontstyle='italic', fontweight='bold')\n",
    "pyplot.show()"
   ]
  },
  {
   "cell_type": "code",
   "execution_count": null,
   "metadata": {},
   "outputs": [],
   "source": []
  }
 ],
 "metadata": {
  "kernelspec": {
   "display_name": "Python 3",
   "language": "python",
   "name": "python3"
  },
  "language_info": {
   "codemirror_mode": {
    "name": "ipython",
    "version": 3
   },
   "file_extension": ".py",
   "mimetype": "text/x-python",
   "name": "python",
   "nbconvert_exporter": "python",
   "pygments_lexer": "ipython3",
   "version": "3.6.10"
  }
 },
 "nbformat": 4,
 "nbformat_minor": 2
}
